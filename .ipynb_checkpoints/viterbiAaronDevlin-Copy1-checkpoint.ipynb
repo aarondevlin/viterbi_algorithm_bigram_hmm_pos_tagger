{
 "cells": [
  {
   "cell_type": "code",
   "execution_count": 1,
   "metadata": {
    "collapsed": true
   },
   "outputs": [],
   "source": [
    "# Bigram Hidden Markov Model (HMM) Part-Of-Speech (POS) Tagger VITERBI ALGORITHM"
   ]
  },
  {
   "cell_type": "code",
   "execution_count": 2,
   "metadata": {
    "collapsed": true
   },
   "outputs": [],
   "source": [
    "# Input sentence to be tagged\n",
    "sent = ('learning', 'changes', 'throughly')\n",
    "\n",
    "# Create state and probability lists\n",
    "states = ('Noun', 'Verb', 'Adverb', 'End')\n",
    "startprob = {'Noun': 0.2, 'Verb': 0.3, 'Adverb': 0.0, 'End': 0.0}\n",
    "transprob = {\n",
    "    'Noun' : {'Noun': 0.1, 'Verb': 0.3, 'Adverb': 0.1, 'End': 0.0},\n",
    "    'Verb' : {'Noun': 0.4, 'Verb': 0.1, 'Adverb': 0.4, 'End': 0.0},\n",
    "    'Adverb' : {'Noun': 0.0, 'Verb': 0.0, 'Adverb': 0.0, 'End': 0.1},\n",
    "    'End' : {'Noun': 0.0, 'Verb': 0.0, 'Adverb': 0.0, 'End': 0.0}\n",
    "}\n",
    "emisprob = {\n",
    "    'Noun' : {'learning': 0.001, 'changes': 0.003, 'throughly': 0.0},\n",
    "    'Verb' : {'learning': 0.003, 'changes': 0.004, 'throughly': 0.0},\n",
    "    'Adverb' : {'learning': 0.0, 'changes': 0.0, 'throughly': 0.002},\n",
    "    'End' : {'learning': 0.0, 'changes': 0.0, 'throughly': 0.0}\n",
    "}"
   ]
  },
  {
   "cell_type": "code",
   "execution_count": 3,
   "metadata": {
    "collapsed": true
   },
   "outputs": [],
   "source": [
    "# Calculate the Viterbi matrix for the given HMM POS tagger entered above\n",
    "def viterbi(sent, states, startprob, transprob, emisprob):\n",
    "    datav = [{}]\n",
    "    for state in states:\n",
    "        datav[0][state] = {\"prob\": startprob[state] * emisprob[state][sent[0]], \"prev\": None}\n",
    "    \n",
    "    # Carry out Viterbi Algorithm when t > 1\n",
    "    for t in range(1, len(sent)):\n",
    "        datav.append({})\n",
    "        for state in states:\n",
    "            maxtprob = max(datav[t-1][prevstate][\"prob\"]*transprob[prevstate][state] for prevstate in states)\n",
    "            for prevstate in states:\n",
    "                if datav[t-1][prevstate][\"prob\"] * transprob[prevstate][state] == maxtprob:\n",
    "                    maxprob = maxtprob * emisprob[state][sent[t]]\n",
    "                    datav[t][state] = {\"prob\": maxprob, \"prev\": prevstate}\n",
    "                    break\n",
    "    for row in dptable(datav):\n",
    "        print(row)\n",
    "    matrx = []\n",
    "    \n",
    "    # Find the maximum probability\n",
    "    maxprob = max(value[\"prob\"] for value in datav[-1].values())\n",
    "    prvius = None\n",
    "    \n",
    "    # Find most likely state\n",
    "    for state, data in datav[-1].items():\n",
    "        if data[\"prob\"] == maxprob:\n",
    "            matrx.append(state)\n",
    "            prvius = state\n",
    "            break\n",
    "    \n",
    "    # Backtrack to the first token\n",
    "    for t in range(len(datav) - 2, -1, -1):\n",
    "        matrx.insert(0, datav[t + 1][prvius][\"prev\"])\n",
    "        prvius = datav[t + 1][prvius][\"prev\"]\n",
    "   \n",
    "    print('')\n",
    "    print('POS of the sentence tokens: ' + ' '.join(matrx))\n",
    "    print('')\n",
    "    print('Probability = %s' % maxprob)\n",
    "\n",
    "\n",
    "# Display the iteration data\n",
    "def dptable(datav):\n",
    "    yield \" \".join((\"%13d\" % i) for i in range(len(datav)))\n",
    "    for state in datav[0]:\n",
    "        yield \"%s: \" % state + \" \".join(\"%s\" % (\"%.12f\" % v[state][\"prob\"]) for v in datav)"
   ]
  },
  {
   "cell_type": "code",
   "execution_count": 4,
   "metadata": {},
   "outputs": [
    {
     "name": "stdout",
     "output_type": "stream",
     "text": [
      "            0             1             2\n",
      "Noun: 0.000200000000 0.000001080000 0.000000000000\n",
      "Verb: 0.000900000000 0.000000360000 0.000000000000\n",
      "Adverb: 0.000000000000 0.000000000000 0.000000000288\n",
      "End: 0.000000000000 0.000000000000 0.000000000000\n",
      "\n",
      "POS of the sentence tokens: Verb Verb Adverb\n",
      "\n",
      "Probability = 2.8800000000000004e-10\n"
     ]
    }
   ],
   "source": [
    "viterbi(sent, states, startprob, transprob, emisprob)"
   ]
  }
 ],
 "metadata": {
  "kernelspec": {
   "display_name": "Python 3",
   "language": "python",
   "name": "python3"
  },
  "language_info": {
   "codemirror_mode": {
    "name": "ipython",
    "version": 3
   },
   "file_extension": ".py",
   "mimetype": "text/x-python",
   "name": "python",
   "nbconvert_exporter": "python",
   "pygments_lexer": "ipython3",
   "version": "3.6.2"
  }
 },
 "nbformat": 4,
 "nbformat_minor": 2
}
