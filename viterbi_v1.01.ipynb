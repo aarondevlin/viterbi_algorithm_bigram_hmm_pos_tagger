{
 "cells": [
  {
   "cell_type": "code",
   "execution_count": 1,
   "metadata": {
    "collapsed": true
   },
   "outputs": [],
   "source": [
    "obs = ('learning', 'changes', 'thoroughly')\n",
    "states = ('Noun', 'Verb', 'Adverb', 'End')\n",
    "#states = ('Start', 'Noun', 'Verb', 'Adverb', 'End')\n",
    "#start_p = {'Noun': 0.2, 'Verb': 0.3, 'Adverb': 0.0, 'Start': 1.0, 'End': 0.0}\n",
    "start_p = {'Noun': 0.2, 'Verb': 0.3, 'Adverb': 0.0, 'End': 0.0}\n",
    "trans_p = {\n",
    "    #'Start' : {'Noun': 0.2, 'Verb': 0.3, 'Adverb': 0.0, 'Start': 0.0, 'End': 0.0},\n",
    "    'Noun' : {'Noun': 0.1, 'Verb': 0.3, 'Adverb': 0.1, 'End': 0.0},\n",
    "    'Verb' : {'Noun': 0.4, 'Verb': 0.1, 'Adverb': 0.4, 'End': 0.0},\n",
    "    'Adverb' : {'Noun': 0.0, 'Verb': 0.0, 'Adverb': 0.0, 'End': 0.1},\n",
    "    'End' : {'Noun': 0.0, 'Verb': 0.0, 'Adverb': 0.0, 'End': 0.0}\n",
    "}\n",
    "\n",
    "emit_p = {\n",
    "    #'Start' : {'learning': 0.0, 'changes': 0.0, 'thoroughly': 0.0},\n",
    "    'Noun' : {'learning': 0.001, 'changes': 0.003, 'thoroughly': 0.0},\n",
    "    'Verb' : {'learning': 0.003, 'changes': 0.004, 'thoroughly': 0.0},\n",
    "    'Adverb' : {'learning': 0.0, 'changes': 0.0, 'thoroughly': 0.002},\n",
    "    'End' : {'learning': 0.0, 'changes': 0.0, 'thoroughly': 0.0}\n",
    "}"
   ]
  },
  {
   "cell_type": "code",
   "execution_count": 2,
   "metadata": {
    "collapsed": true
   },
   "outputs": [],
   "source": [
    "def viterbi(obs, states, start_p, trans_p, emit_p):\n",
    "    V = [{}]\n",
    "    for st in states:\n",
    "        V[0][st] = {\"prob\": start_p[st] * emit_p[st][obs[0]], \"prev\": None}\n",
    "       # Run Viterbi when t > 0\n",
    "    for t in range(1, len(obs)):\n",
    "        V.append({})\n",
    "        for st in states:\n",
    "            max_tr_prob = max(V[t-1][prev_st][\"prob\"]*trans_p[prev_st][st] for prev_st in states)\n",
    "            for prev_st in states:\n",
    "                if V[t-1][prev_st][\"prob\"] * trans_p[prev_st][st] == max_tr_prob:\n",
    "                    max_prob = max_tr_prob * emit_p[st][obs[t]]\n",
    "                    V[t][st] = {\"prob\": max_prob, \"prev\": prev_st}\n",
    "                    break\n",
    "    for line in dptable(V):\n",
    "        print(line)\n",
    "    opt = []\n",
    "    # The highest probability\n",
    "    max_prob = max(value[\"prob\"] for value in V[-1].values())\n",
    "    previous = None\n",
    "    # Get most probable state and its backtrack\n",
    "    for st, data in V[-1].items():\n",
    "        if data[\"prob\"] == max_prob:\n",
    "            opt.append(st)\n",
    "            previous = st\n",
    "            break\n",
    "    # Follow the backtrack till the first observation\n",
    "    for t in range(len(V) - 2, -1, -1):\n",
    "        opt.insert(0, V[t + 1][previous][\"prev\"])\n",
    "        previous = V[t + 1][previous][\"prev\"]\n",
    "   \n",
    "    print('The steps of states are ' + ' '.join(opt) + ' with highest probability of %s' % max_prob)\n",
    "   \n",
    "def dptable(V):\n",
    "    # Print a table of steps from dictionary\n",
    "    yield \" \".join((\"%12d\" % i) for i in range(len(V)))\n",
    "    for state in V[0]:\n",
    "        yield \"%.7s: \" % state + \" \".join(\"%.7s\" % (\"%f\" % v[state][\"prob\"]) for v in V)"
   ]
  },
  {
   "cell_type": "code",
   "execution_count": 3,
   "metadata": {},
   "outputs": [
    {
     "name": "stdout",
     "output_type": "stream",
     "text": [
      "           0            1            2\n",
      "Noun: 0.00020 0.00000 0.00000\n",
      "Verb: 0.00090 0.00000 0.00000\n",
      "Adverb: 0.00000 0.00000 0.00000\n",
      "End: 0.00000 0.00000 0.00000\n",
      "The steps of states are Verb Verb Adverb with highest probability of 2.8800000000000004e-10\n"
     ]
    }
   ],
   "source": [
    "viterbi(obs, states, start_p, trans_p, emit_p)"
   ]
  },
  {
   "cell_type": "code",
   "execution_count": null,
   "metadata": {
    "collapsed": true
   },
   "outputs": [],
   "source": []
  },
  {
   "cell_type": "code",
   "execution_count": null,
   "metadata": {
    "collapsed": true
   },
   "outputs": [],
   "source": []
  }
 ],
 "metadata": {
  "kernelspec": {
   "display_name": "Python 3",
   "language": "python",
   "name": "python3"
  },
  "language_info": {
   "codemirror_mode": {
    "name": "ipython",
    "version": 3
   },
   "file_extension": ".py",
   "mimetype": "text/x-python",
   "name": "python",
   "nbconvert_exporter": "python",
   "pygments_lexer": "ipython3",
   "version": "3.6.2"
  }
 },
 "nbformat": 4,
 "nbformat_minor": 2
}
